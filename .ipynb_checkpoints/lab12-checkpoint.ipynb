{
 "cells": [
  {
   "cell_type": "markdown",
   "metadata": {},
   "source": [
    "# Lab 12: The harmonic series; getting started with FFT\n",
    "\n",
    "### 25 January 2017\n",
    "\n",
    "In this lab we will explore the sonic and visual effects of adding together waveforms of different frequencies, and we will start using the FFT.\n",
    "\n",
    "## Goals ##\n",
    "\n",
    "After completing this lab, you should:\n",
    "* Be very comfortable generating sine waves and plotting waveforms in python\n",
    "* Be able to experiment with adding harmonically related sounds together, deepening your understanding of the perception of harmonic sounds\n",
    "* compute and visualise the magnitude spectrum for any audio (or other one-dimensional) signal\n",
    "* look at an equation for a sine wave and sketch out the spectrum on paper\n",
    "\n",
    "## Before you start ##\n",
    "\n",
    "This lab <font color=red>requires that you have completed installation of PMC libraries on your machine, following last week's instructions</font> at <a href=\"https://learn.gold.ac.uk/mod/resource/view.php?id=406466\">https://learn.gold.ac.uk/mod/resource/view.php?id=406466</a>\n",
    "\n",
    "Please finish <font color=red>the \"getting started lab\" if you haven't already: </font> <a href=\"https://learn.gold.ac.uk/mod/resource/view.php?id=406472\">https://learn.gold.ac.uk/mod/resource/view.php?id=406472</a>\n"
   ]
  },
  {
   "cell_type": "markdown",
   "metadata": {},
   "source": [
    "# Part 0. IPython & Sound Review\n",
    "\n",
    "This lab assumes you have completed the \"getting started\" lab, the introduction to Jupyter Notebook and to sound creation and visualization. If you need a refresher, that lab can be found at https://learn.gold.ac.uk/mod/resource/view.php?id=406472\n",
    "\n",
    "To refresh your memory, here is a summary of the commands for creating, plotting, and playing sound waves in IPython:\n"
   ]
  },
  {
   "cell_type": "code",
   "execution_count": null,
   "metadata": {
    "collapsed": false
   },
   "outputs": [],
   "source": [
    "#create an array, t, whose elements begin at 0 and increase in increments of 1/44100, up to 1\n",
    "#this is a list of points in time (in seconds)\n",
    "t = arange(0, 1, 1/44100) \n",
    "\n",
    "#create another array, each element of which is the value of a sine wave, computed\n",
    "#at the corresponding point in time in t\n",
    "s = 0.5 * sin(2*pi*t*440)\n",
    "\n",
    "#provide a playback bar for playing s as an audio file\n",
    "play(s)"
   ]
  },
  {
   "cell_type": "code",
   "execution_count": null,
   "metadata": {
    "collapsed": false
   },
   "outputs": [],
   "source": [
    "rate = 44100 #44100 Hz\n",
    "duration = 1 #1 second\n",
    "t = arange(0, duration, 1/rate) #t is an array of equally-spaced time points\n",
    "s1 = 0.5*sin(2*pi*440*t) # s1 is sine wave at 440Hz, amplitude 0.5\n",
    "play(s1)\n",
    "plot(t[0:1000], s1[0:1000]) #plots just first 1000 samples of s1"
   ]
  },
  {
   "cell_type": "markdown",
   "metadata": {},
   "source": [
    "And here is a refresher on how to add two sine waves (to play them simultaneously) or two concatenate them (to play them in sequence):"
   ]
  },
  {
   "cell_type": "code",
   "execution_count": null,
   "metadata": {
    "collapsed": false
   },
   "outputs": [],
   "source": [
    "s2 = 0.25 * sin(2*pi*587.33*t) \n",
    "chord = s1 + s2 #plays simultaneously\n",
    "play(chord)"
   ]
  },
  {
   "cell_type": "code",
   "execution_count": null,
   "metadata": {
    "collapsed": false
   },
   "outputs": [],
   "source": [
    "sequence = concatenate([s1, s2]) #plays in sequence\n",
    "play(sequence)"
   ]
  },
  {
   "cell_type": "markdown",
   "metadata": {},
   "source": [
    "# Part 1. The harmonic series\n",
    "\n",
    "When a series of sinusoids are all integer multiples of the same frequency (called the **fundamental frequency**), we call them **harmonics**. For example, 100Hz, 200Hz, 300Hz, and 400Hz are all harmonics, and the fundamental frequency is 100Hz (namely, they are 1, 2, 3, and 4 times the fundamental). \n",
    "\n",
    "**Why is the harmonic series so important?**\n",
    "\n",
    "**In acoustics: **\n",
    "1. When we add harmonically-related frequencies together, we will typically hear *just one note*, and the pitch of that note will be equal to the pitch of the fundamental. \n",
    "\n",
    "1. The relative amplitudes of the harmonics are important in determining the *timbre* (or \"tone colour\") of a note.\n",
    "\n",
    "1. Pitched acoustic instruments (e.g., a bowed violin string, a blown clarinet, a plucked guitar string) vibrate at a fundamental and its harmonics. The strengths of these harmonics are a big part of what differentiates the sound of one instrument from another.\n",
    "\n",
    "** In computation with _any kind of signal_ (audio, image, animation, ...): **\n",
    "1. <span style=\"color:red\"> We can add harmonically-related sinusoids with carefully chosen amplitudes and phases together to create any periodic (repeating) waveform. </span>\n",
    "\n",
    "## i. Playing in sequence\n",
    "\n",
    "The following code creates a sequence of harmonically-related sines. Make sure you understand how it works, then **edit the number of partials and duration**.\n"
   ]
  },
  {
   "cell_type": "code",
   "execution_count": null,
   "metadata": {
    "collapsed": false
   },
   "outputs": [],
   "source": [
    "t = arange(0, 0.5, 1/44100)\n",
    "fundamental = 440\n",
    "numHarmonics = 3\n",
    "mySound = 0.5*sin(2*pi*t*440)\n",
    "for i in range(2,numHarmonics+1) :  #A for-loop where i starts at 2 and ends at numHarmonics\n",
    "    print \"Adding harmonic: \", i\n",
    "    mySound = concatenate([mySound, 0.5*sin(2*pi*t*440*i)])\n",
    "    \n",
    "play(mySound)\n",
    "plot(mySound[1:1000]) #plot first 1000 samples"
   ]
  },
  {
   "cell_type": "markdown",
   "metadata": {},
   "source": [
    "## ii. Playing simultaneously\n",
    "\n",
    "Edit the code below so that, instead of playing one harmonic after the other, you add them together to be **played simultaneously**. *Tip: Don't forget to adjust the gain of each harmonic to ensure that your total gain is no more than 1, otherwise you will get distortion!*"
   ]
  },
  {
   "cell_type": "code",
   "execution_count": null,
   "metadata": {
    "collapsed": false
   },
   "outputs": [],
   "source": [
    "t = arange(0, 0.5, 1/44100)\n",
    "fundamental = 440\n",
    "numHarmonics = 3\n",
    "mySound = 0.5*sin(2*pi*t*440)\n",
    "for i in range(2,numHarmonics+1) :\n",
    "    print \"Adding harmonic: \", i\n",
    "    mySound = concatenate([mySound, 0.5*sin(2*pi*t*440*i)])\n",
    "    \n",
    "play(mySound)\n",
    "plot(mySound[0:1000]) # plot first 1000 samples\n"
   ]
  },
  {
   "cell_type": "markdown",
   "metadata": {},
   "source": [
    "### <h2><span style=\"color:red\">Questions for Part 1</span></h2>"
   ]
  },
  {
   "cell_type": "markdown",
   "metadata": {},
   "source": [
    "Before moving on to Part 2, **answer the following questions**. (You can double-click on this cell and write your answers as text, then hit shift+return to \"run\" the cell and render the text.)\n",
    "\n",
    "<div style=\"color:red\">1. How does the sound change as you add more harmonics? (Try from 3 harmonics to up to 10 or more.) <br> 2. How does the plot of the waveform change as you add more harmonics?\n",
    "</div>\n"
   ]
  },
  {
   "cell_type": "markdown",
   "metadata": {},
   "source": [
    "\n",
    "<hr>\n",
    "# Aside: Creating a square wave by adding harmonically-related sinusoids\n",
    "\n",
    "Last term, you used Processing to approximate a square wave by adding harmonically-related sinusoids, each with a carefully chosen frequency and amplitude. \n",
    "\n",
    "To create a square wave with any fundamental frequency $f$, the $k^{th}$ sinusoid in your sum will have frequency $(2k-1)\\times f$. This $k^{th}$ sinusoid will have amplitude $\\frac{1}{(2k-1)}$.\n",
    "\n",
    "In other words, the final waveform can be expressed by the following summation:\n",
    "\n",
    "$$ s = \\sum_{k=1}^{\\infty} \\frac{\\sin(2\\pi(2k-1)ft}{2k-1}$$"
   ]
  },
  {
   "cell_type": "markdown",
   "metadata": {},
   "source": [
    "The for-loop below generates this sum of sine waves when there are 10 components. \n",
    "\n",
    "* Try changing the number of components, and watch and listen how the waveform changes.\n",
    "* Then, try changing the fundamental, and watch and listen how the waveform changes.\n",
    "* Finally, try randomly change the _phase_ of each sinusoid (e.g., by using a phase of `rand()*2*pi` for each sin inside your for-loop). (Note that you may have to normalize your waveform to restrict it to the range [-1, 1], by calling `mysound = mysound/max(mysound)` before plotting and playing it, to prevent distortion.)"
   ]
  },
  {
   "cell_type": "code",
   "execution_count": null,
   "metadata": {
    "collapsed": false
   },
   "outputs": [],
   "source": [
    "t = arange(0, 0.5, 1/44100)\n",
    "fundamental = 100\n",
    "numHarmonics = 10\n",
    "k = 1\n",
    "mySound = sin(2*pi*fundamental*t)\n",
    "for k in range(2,numHarmonics+1) :\n",
    "    mySound = mySound + sin(2*pi*(2*k-1)*fundamental*t)/(2*k-1)\n",
    "    \n",
    "play(mySound)\n",
    "plot(mySound[1:1000])"
   ]
  },
  {
   "cell_type": "markdown",
   "metadata": {},
   "source": [
    "## Part 2: Intro to The Fourier Transform##\n",
    "\n",
    "__Step 1.__ Complete the code below to create a sine wave. Create this wave with a frequency of 2 Hz, an amplitude of 0.5, and a phase offset of 0. Using a sample rate of 100Hz, generate the waveform for 1 second. Store this wave in a variable called `x1`."
   ]
  },
  {
   "cell_type": "code",
   "execution_count": null,
   "metadata": {
    "collapsed": true
   },
   "outputs": [],
   "source": [
    "t = arange(  #Complete this\n",
    "x1 = # complete this too"
   ]
  },
  {
   "cell_type": "markdown",
   "metadata": {},
   "source": [
    "__Step 2.__ Plot `x1` and verify that it looks like this (note __vertical axis range__):\n",
    "\n",
    "http://www.doc.gold.ac.uk/~mas01rf/PMC2014-15/IPython/lab11/images/x1.png\n",
    "\n",
    "(Note that you won't be able to hear the wave if you play it, since its frequency is below the range of human hearing, so don't even try.)"
   ]
  },
  {
   "cell_type": "markdown",
   "metadata": {},
   "source": [
    "If you have trouble doing the above, revisit Part 3 of Lab 11 and work through that until you're confident you can make an arbitrary sine wave signal.\n",
    "\n",
    "__Step 3.__ Sketch on paper what you think the spectrum should look like for `x1`. Label your x-axis \"frequency\", and let it range from 0 to 50Hz (the Nyquist rate, the maximum frequency you can accurately represent at 100Hz). Label your y-axis \"magnitude,\" and let it range from 0 upwards (don't worry about units).\n",
    "\n",
    "If you don't know what the spectrum should look like for `x1`, you might want to take a look back at the slides from week 9 (e.g. slide 26).\n",
    "\n",
    "__Step 4.__ We'll use the FFT to compute the spectrum of `x1`. To call this in IPython, you'll use the `fft` function, located within the `fft` package. You'll call this function using the syntax `fft.fft()`\n",
    "\n",
    "For example, to see the documentation about the `fft` __package__, type"
   ]
  },
  {
   "cell_type": "code",
   "execution_count": null,
   "metadata": {
    "collapsed": true
   },
   "outputs": [],
   "source": [
    "?fft"
   ]
  },
  {
   "cell_type": "markdown",
   "metadata": {},
   "source": [
    "To see the documentation about the `fft` __function__ within this package, type\n"
   ]
  },
  {
   "cell_type": "code",
   "execution_count": null,
   "metadata": {
    "collapsed": true
   },
   "outputs": [],
   "source": [
    "?fft.fft"
   ]
  },
  {
   "cell_type": "markdown",
   "metadata": {},
   "source": [
    "To compute the spectrum of `x1` and store it in a variable called `spec`, just call"
   ]
  },
  {
   "cell_type": "code",
   "execution_count": null,
   "metadata": {
    "collapsed": true
   },
   "outputs": [],
   "source": [
    "spec = fft.fft(x1)"
   ]
  },
  {
   "cell_type": "markdown",
   "metadata": {},
   "source": [
    "Note that `spec` is an __array of complex numbers__. Note also that Python uses \"j\" for the imaginary $\\sqrt{-1}$, __not__ \"i.\" Make sure you understand what's being done in the following code:"
   ]
  },
  {
   "cell_type": "code",
   "execution_count": null,
   "metadata": {
    "collapsed": false
   },
   "outputs": [],
   "source": [
    "print \"The first spectrum element is \", spec[0]\n",
    "print \"The magnitude of the first element is \", abs(spec[0])\n",
    "print \"The length of the spectrum is \", size(spec)"
   ]
  },
  {
   "cell_type": "markdown",
   "metadata": {},
   "source": [
    "Many functions in python can be applied to an entire array at once, without using a for-loop. `abs()` is one of those functions. \n",
    "\n",
    "Therefore, to compute a new array that just contains the __magnitudes__ of each component of the spectrum, call:"
   ]
  },
  {
   "cell_type": "code",
   "execution_count": null,
   "metadata": {
    "collapsed": true
   },
   "outputs": [],
   "source": [
    "magspec = abs(spec)"
   ]
  },
  {
   "cell_type": "markdown",
   "metadata": {},
   "source": [
    "The magnitude spectrum is just an array of real numbers, so you can plot it using the usual plot command:"
   ]
  },
  {
   "cell_type": "code",
   "execution_count": null,
   "metadata": {
    "collapsed": false
   },
   "outputs": [],
   "source": [
    "plot(magspec)"
   ]
  },
  {
   "cell_type": "markdown",
   "metadata": {},
   "source": [
    "__Step 5.__ Does the spectrum you plotted above look like your sketch from step 3? Hopefully it does __NOT!__\n",
    "\n",
    "Why not? Notice that you've plotted the spectrum for frequencies from 0 to 100Hz (on the x-axis!) However, what you want to plot is the frequencies between 0 and the Nyquist rate of 50Hz. \n",
    "\n",
    "To access the first *n* elements of some array `a` in python, you can use the shorthand `a[0:n]`. Plot the spectrum for frequencies only between 0 and the Nyquist rate by:"
   ]
  },
  {
   "cell_type": "code",
   "execution_count": null,
   "metadata": {
    "collapsed": false
   },
   "outputs": [],
   "source": [
    "plot(magspec[0:50])"
   ]
  },
  {
   "cell_type": "markdown",
   "metadata": {},
   "source": [
    "You should see something like the following: \n",
    "\n",
    "http://www.doc.gold.ac.uk/~mas01rf/PMC2014-15/IPython/lab11/images/spec1.png\n",
    "\n",
    "If you don't, double-check your work or ask for help."
   ]
  },
  {
   "cell_type": "markdown",
   "metadata": {},
   "source": [
    "Note that the plot above still looks a little funny, like a triangle sitting at 2Hz instead of a single peak. You can change the type of plot to look more like the slides from class by using the `stem` function instead:"
   ]
  },
  {
   "cell_type": "code",
   "execution_count": null,
   "metadata": {
    "collapsed": false
   },
   "outputs": [],
   "source": [
    "stem(magspec[0:50])\n",
    "#Also, try \"zooming in\" further to verify that the peak is at 2 Hz, like:\n",
    "#stem(spec[0:5])"
   ]
  },
  {
   "cell_type": "markdown",
   "metadata": {},
   "source": [
    "__Step 6.__ Now repeat the process for a few more waveforms, all sampled at 100Hz for 1 second.\n",
    "\n",
    "a. Create a variable `x2`, with an amplitude of 0.5, a frequency of 4Hz, and a phase offset of 0.\n",
    "\n",
    "b. Sketch on paper what you expect the magnitude spectrum of `x2` to look like.\n",
    "\n",
    "c. Create a variable `x3` which is the sum of `x1` and `x2`. \n",
    "\n",
    "d. Sketch what you expect the magnitude spectrum of `x3` to look like.\n",
    "\n",
    "e. Compute the spectrum of `x2` and store it in the variable `spec2`.\n",
    "\n",
    "f. Compute the spectrum of `x3` and store it in the variable `spec3`. \n",
    "\n",
    "g. Plot the magnitude spectra for `x2` and `x3`, remembering to use the `abs` function __and__ to plot the spectrum only for the frequencies from 0 to the Nyquist rate."
   ]
  },
  {
   "cell_type": "code",
   "execution_count": null,
   "metadata": {
    "collapsed": false,
    "scrolled": true
   },
   "outputs": [],
   "source": [
    "#do your work here\n",
    "\n"
   ]
  },
  {
   "cell_type": "markdown",
   "metadata": {},
   "source": [
    "<span style=\"color:red\">\n",
    "Make sure that your code-generated spectra look the same as your sketches. <br> Also make sure that your spectrum for `x3` looks the same as if you added the spectra for `x1` and `x2` together. <br> If not, raise your hand to talk with an instructor. \n",
    "</span>"
   ]
  }
 ],
 "metadata": {
  "anaconda-cloud": {},
  "kernelspec": {
   "display_name": "Python [default]",
   "language": "python",
   "name": "python2"
  },
  "language_info": {
   "codemirror_mode": {
    "name": "ipython",
    "version": 2
   },
   "file_extension": ".py",
   "mimetype": "text/x-python",
   "name": "python",
   "nbconvert_exporter": "python",
   "pygments_lexer": "ipython2",
   "version": "2.7.12"
  }
 },
 "nbformat": 4,
 "nbformat_minor": 0
}
