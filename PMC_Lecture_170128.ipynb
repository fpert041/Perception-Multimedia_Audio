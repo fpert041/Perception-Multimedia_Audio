{
 "cells": [
  {
   "cell_type": "code",
   "execution_count": 5,
   "metadata": {
    "collapsed": false
   },
   "outputs": [],
   "source": [
    "t = np.arange(0,1,1/44100)\n",
    "\n",
    "# - 200 fundamental is not perfectly defined (because is not there) but we still hear it as the pitch\n",
    "s1=0.2*sin(2*pi*600*t)+0.2*sin(2*pi*800*t)+0.2*sin(2*pi*1000*t)+0.2*sin(2*pi*1200*t)\n",
    "\n",
    "#play(s)"
   ]
  },
  {
   "cell_type": "code",
   "execution_count": 6,
   "metadata": {
    "collapsed": true
   },
   "outputs": [],
   "source": [
    "# Frequencies are not realted and we cannot say the sound is pitched anymore (at leadt not 1 pitch)\n",
    "\n",
    "s2=0.2*sin(2*pi*625*t)+0.2*sin(2*pi*825*t)+0.2*sin(2*pi*1025*t)+0.2*sin(2*pi*1225*t) "
   ]
  },
  {
   "cell_type": "code",
   "execution_count": 7,
   "metadata": {
    "collapsed": true
   },
   "outputs": [],
   "source": [
    "congaFreqs = 0.2*sin(2*pi*95*t)+0.2*sin(2*pi*137*t)+0.2*sin(2*pi*457*t)+0.2*sin(2*pi*673*t) "
   ]
  },
  {
   "cell_type": "code",
   "execution_count": null,
   "metadata": {
    "collapsed": true
   },
   "outputs": [],
   "source": []
  }
 ],
 "metadata": {
  "anaconda-cloud": {},
  "kernelspec": {
   "display_name": "Python [default]",
   "language": "python",
   "name": "python2"
  },
  "language_info": {
   "codemirror_mode": {
    "name": "ipython",
    "version": 2
   },
   "file_extension": ".py",
   "mimetype": "text/x-python",
   "name": "python",
   "nbconvert_exporter": "python",
   "pygments_lexer": "ipython2",
   "version": "2.7.12"
  }
 },
 "nbformat": 4,
 "nbformat_minor": 1
}
